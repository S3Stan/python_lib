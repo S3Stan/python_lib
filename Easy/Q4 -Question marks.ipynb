{
 "cells": [
  {
   "cell_type": "markdown",
   "metadata": {},
   "source": [
    "# Easy level P1"
   ]
  },
  {
   "cell_type": "markdown",
   "metadata": {},
   "source": [
    "Have the function QuestionsMarks(str) take the str string parameter, which will contain single digit numbers, letters, and question marks, and check if there are exactly 3 question marks between every pair of two numbers that add up to 10. If so, then your program should return the string true, otherwise it should return the string false. If there aren't any two numbers that add up to 10 in the string, then your program should return false as well.\n",
    "\n",
    "For example: if str is \"arrb6???4xxbl5???eee5\" then your program should return true because there are exactly 3 question marks between 6 and 4, and 3 question marks between 5 and 5 at the end of the string."
   ]
  },
  {
   "cell_type": "code",
   "execution_count": null,
   "metadata": {},
   "outputs": [],
   "source": [
    "# testing input\n",
    "\n",
    "test_input = [\"1, 3, 4, 7, 13\", \"1, 2, 4, 13, 15\"]\n",
    "\n",
    "def input():\n",
    "    test_input = [\"1, 3, 4, 7, 13\", \"1, 2, 4, 13, 15\"]\n",
    "    return test_input"
   ]
  },
  {
   "cell_type": "code",
   "execution_count": 2,
   "metadata": {},
   "outputs": [
    {
     "ename": "SyntaxError",
     "evalue": "unmatched ')' (1118699984.py, line 48)",
     "output_type": "error",
     "traceback": [
      "\u001b[1;36m  Cell \u001b[1;32mIn[2], line 48\u001b[1;36m\u001b[0m\n\u001b[1;33m    print(FindIntersection(input())), \"hi\")\u001b[0m\n\u001b[1;37m                                          ^\u001b[0m\n\u001b[1;31mSyntaxError\u001b[0m\u001b[1;31m:\u001b[0m unmatched ')'\n"
     ]
    }
   ],
   "source": [
    "def stringParser(demoStr):\n",
    "\n",
    "  # variables\n",
    "  stringPassState = \"false\"\n",
    "  stringList = []\n",
    "  numericList = [] # store all the numbers in a list\n",
    "  qCount = 0\n",
    "\n",
    "  for letter in range(0, len(demoStr)):\n",
    "    stringList.append(demoStr[letter]) # list of string created\n",
    "\n",
    "  # Get index of first and second number\n",
    "  for character in stringList:\n",
    "    if(character.isnumeric()):\n",
    "      numericList.append(character) # first \n",
    "\n",
    "      for post_numeric_characters_index in range(stringList.index(character)+1, len(stringList)):\n",
    "        if(stringList[post_numeric_characters_index].isnumeric()):\n",
    "          numericList.append(stringList[post_numeric_characters_index]) # add next number to numeric list\n",
    "        else:\n",
    "          numericList # do nothing   \n",
    "    else:\n",
    "      numericList # do nothing\n",
    "\n",
    "  for demoStringCharIndex in range(stringList.index(numericList[0]), stringList.index(numericList[1])):\n",
    "    if(stringList[demoStringCharIndex] == '?'): # get the count of '?' in the string\n",
    "      qCount += 1 # increment \n",
    "    else:\n",
    "      qCount # do nothing\n",
    "    \n",
    "  if(qCount >= 3):\n",
    "    stringPassState = \"true\"  # return the state of the string\n",
    "  else:\n",
    "    stringPassState = \"false\"  # return the state of the string\n",
    "\n",
    "  return stringPassState\n",
    "\n",
    "def QuestionsMarks(strParam):\n",
    "\n",
    "  # get validations status of the string\n",
    "  stringPassState = stringParser(strParam)\n",
    "  return stringPassState \n",
    "\n",
    "# keep this function call here \n",
    "\n",
    "print(QuestionsMarks(input()))"
   ]
  },
  {
   "cell_type": "code",
   "execution_count": null,
   "metadata": {},
   "outputs": [],
   "source": []
  },
  {
   "cell_type": "code",
   "execution_count": null,
   "metadata": {},
   "outputs": [],
   "source": []
  }
 ],
 "metadata": {
  "kernelspec": {
   "display_name": "Python 3",
   "language": "python",
   "name": "python3"
  },
  "language_info": {
   "codemirror_mode": {
    "name": "ipython",
    "version": 3
   },
   "file_extension": ".py",
   "mimetype": "text/x-python",
   "name": "python",
   "nbconvert_exporter": "python",
   "pygments_lexer": "ipython3",
   "version": "3.11.4"
  }
 },
 "nbformat": 4,
 "nbformat_minor": 2
}
