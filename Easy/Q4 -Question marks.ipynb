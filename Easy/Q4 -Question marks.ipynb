{
 "cells": [
  {
   "cell_type": "markdown",
   "metadata": {},
   "source": [
    "# Easy level P1"
   ]
  },
  {
   "cell_type": "markdown",
   "metadata": {},
   "source": [
    "Have the function QuestionsMarks(str) take the str string parameter, which will contain single digit numbers, letters, and question marks, and check if there are exactly 3 question marks between every pair of two numbers that add up to 10. If so, then your program should return the string true, otherwise it should return the string false. If there aren't any two numbers that add up to 10 in the string, then your program should return false as well.\n",
    "\n",
    "For example: if str is \"arrb6???4xxbl5???eee5\" then your program should return true because there are exactly 3 question marks between 6 and 4, and 3 question marks between 5 and 5 at the end of the string."
   ]
  },
  {
   "cell_type": "code",
   "execution_count": null,
   "metadata": {},
   "outputs": [],
   "source": [
    "# testing input\n",
    "\n",
    "test_input = [\"1, 3, 4, 7, 13\", \"1, 2, 4, 13, 15\"]\n",
    "\n",
    "def input():\n",
    "    test_input = [\"1, 3, 4, 7, 13\", \"1, 2, 4, 13, 15\"]\n",
    "    return test_input"
   ]
  },
  {
   "cell_type": "code",
   "execution_count": 2,
   "metadata": {},
   "outputs": [
    {
     "ename": "SyntaxError",
     "evalue": "unmatched ')' (1118699984.py, line 48)",
     "output_type": "error",
     "traceback": [
      "\u001b[1;36m  Cell \u001b[1;32mIn[2], line 48\u001b[1;36m\u001b[0m\n\u001b[1;33m    print(FindIntersection(input())), \"hi\")\u001b[0m\n\u001b[1;37m                                          ^\u001b[0m\n\u001b[1;31mSyntaxError\u001b[0m\u001b[1;31m:\u001b[0m unmatched ')'\n"
     ]
    }
   ],
   "source": [
    "import re\n",
    "\n",
    "def LongestWord(sen):\n",
    "  # break up the words\n",
    "  word_lib = sen.split(' ')\n",
    "  clean_lib = []\n",
    "  \n",
    "  # strip punctuation from word compare words by length\n",
    "  for word in word_lib:\n",
    "    cleaned_word = re.sub(r'[^a-zA-Z]', '', word)\n",
    "    clean_lib.append(cleaned_word)\n",
    "  \n",
    "  # store and return longest word\n",
    "  longest_word = max(clean_lib, key=len)\n",
    "\n",
    "  # code goes here\n",
    "  return longest_word\n",
    "\n",
    "# keep this function call here \n",
    "print(LongestWord(input()))"
   ]
  },
  {
   "cell_type": "code",
   "execution_count": null,
   "metadata": {},
   "outputs": [],
   "source": []
  },
  {
   "cell_type": "code",
   "execution_count": null,
   "metadata": {},
   "outputs": [],
   "source": []
  }
 ],
 "metadata": {
  "kernelspec": {
   "display_name": "Python 3",
   "language": "python",
   "name": "python3"
  },
  "language_info": {
   "codemirror_mode": {
    "name": "ipython",
    "version": 3
   },
   "file_extension": ".py",
   "mimetype": "text/x-python",
   "name": "python",
   "nbconvert_exporter": "python",
   "pygments_lexer": "ipython3",
   "version": "3.11.4"
  }
 },
 "nbformat": 4,
 "nbformat_minor": 2
}
