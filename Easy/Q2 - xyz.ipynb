{
 "cells": [
  {
   "cell_type": "markdown",
   "metadata": {},
   "source": [
    "# Easy level P1"
   ]
  },
  {
   "cell_type": "markdown",
   "metadata": {},
   "source": [
    "# Find Intersection\n",
    "\n",
    "Have the function \n",
    "FindIntersection(strArr) read the array of strings stored in strArr which will contain 2 elements: \n",
    "\n",
    "- the first element will represent a list of comma-separated numbers sorted in ascending order, the\n",
    "- second element will represent a second list of comma-separated numbers (also sorted). Your goal is to \n",
    "- return a comma-separated string containing the numbers that occur in elements of strArr in sorted order. \n",
    "- If there is no intersection, return the string false."
   ]
  },
  {
   "cell_type": "code",
   "execution_count": null,
   "metadata": {},
   "outputs": [],
   "source": [
    "# testing input\n",
    "\n",
    "test_input = [\"1, 3, 4, 7, 13\", \"1, 2, 4, 13, 15\"]"
   ]
  },
  {
   "cell_type": "code",
   "execution_count": 2,
   "metadata": {},
   "outputs": [
    {
     "ename": "SyntaxError",
     "evalue": "unmatched ')' (1118699984.py, line 48)",
     "output_type": "error",
     "traceback": [
      "\u001b[1;36m  Cell \u001b[1;32mIn[2], line 48\u001b[1;36m\u001b[0m\n\u001b[1;33m    print(FindIntersection(input())), \"hi\")\u001b[0m\n\u001b[1;37m                                          ^\u001b[0m\n\u001b[1;31mSyntaxError\u001b[0m\u001b[1;31m:\u001b[0m unmatched ')'\n"
     ]
    }
   ],
   "source": [
    "# Tee\n",
    "\n",
    "\n",
    "def FindIntersection(strArr):\n",
    "\n",
    "  # code goes here\n",
    "  index_string_array = (strArr[0]).split(',')\n",
    "  search_string_array = (strArr[1]).split(',')\n",
    "\n",
    "  # Sort the two string objects\n",
    "  interesection_num_list = []\n",
    "  final_list = []\n",
    "\n",
    "  # Search second object from first object by appending and append comon number to list\n",
    "  for search_index_num in index_string_array:\n",
    "    for index_string_num in search_string_array:\n",
    "      if(index_string_num == search_index_num):\n",
    "        interesection_num_list.append(search_index_num)\n",
    "        \n",
    "  intersection_num_list_string = ''.join(interesection_num_list).replace(' ', ',')    \n",
    "\n",
    "  # if statement on the return by value\n",
    "  if(len(intersection_num_list_string) != \"\"):\n",
    "\n",
    "\n",
    "    return str(interesection_num_list)\n",
    "  else:\n",
    "    return \"false\"\n",
    "\n",
    "# keep this function call here \n",
    "print(FindIntersection(input()))"
   ]
  },
  {
   "cell_type": "code",
   "execution_count": null,
   "metadata": {},
   "outputs": [],
   "source": []
  },
  {
   "cell_type": "code",
   "execution_count": null,
   "metadata": {},
   "outputs": [],
   "source": []
  }
 ],
 "metadata": {
  "kernelspec": {
   "display_name": "Python 3",
   "language": "python",
   "name": "python3"
  },
  "language_info": {
   "codemirror_mode": {
    "name": "ipython",
    "version": 3
   },
   "file_extension": ".py",
   "mimetype": "text/x-python",
   "name": "python",
   "nbconvert_exporter": "python",
   "pygments_lexer": "ipython3",
   "version": "3.11.4"
  }
 },
 "nbformat": 4,
 "nbformat_minor": 2
}
