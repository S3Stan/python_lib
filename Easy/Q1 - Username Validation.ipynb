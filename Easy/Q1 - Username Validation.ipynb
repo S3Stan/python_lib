{
 "cells": [
  {
   "cell_type": "markdown",
   "metadata": {},
   "source": [
    "# Easy level P1"
   ]
  },
  {
   "cell_type": "markdown",
   "metadata": {},
   "source": [
    "Codeland Username Validation\n",
    "Have the function CodelandUsernameValidation(str) take the str parameter being passed and determine if the string is a valid username according to the following rules:\n",
    "\n",
    "1. The username is between 4 and 25 characters.\n",
    "2. It must start with a letter.\n",
    "3. It can only contain letters, numbers, and the underscore character.\n",
    "4. It cannot end with an underscore character.\n",
    "\n",
    "If the username is valid then your program should return the string true, otherwise return the string false."
   ]
  },
  {
   "cell_type": "code",
   "execution_count": null,
   "metadata": {},
   "outputs": [],
   "source": [
    "# imports\n",
    "import re\n",
    "\n",
    "# Aphla Numeric Symbolic Validator \n",
    "def alphaNumericSymbolicValidator(stringDemo):\n",
    "  stringValidatorPass = \"false\" # has the string passed\n",
    "\n",
    "  if(bool(re.search(r'\\d', stringDemo))): \n",
    "    stringValidatorPass = \"true\"  # check if numbers exist \n",
    "  else: \n",
    "    stringValidatorPass = \"false\"\n",
    "  \n",
    "  if(bool(re.search(r'[a-zA-Z]', stringDemo))): \n",
    "    stringValidatorPass = \"true\" # check if alphabet exist \n",
    "  else: \n",
    "    stringValidatorPass = \"false\"\n",
    "\n",
    "  if(bool(re.search(r'_', stringDemo))):\n",
    "    stringValidatorPass = \"true\"  # check if underscore exist\n",
    "  else: \n",
    "    stringValidatorPass = \"false\"\n",
    "\n",
    "  return stringValidatorPass # return success state of the stringValidator\n",
    "\n",
    "# Validate the Username\n",
    "def CodelandUsernameValidation(strParam):\n",
    "\n",
    "  str_len = len(strParam)\n",
    "  validUsername = \"false\"\n",
    "\n",
    "  if(3 < str_len < 26):   # if username is between 4 and 25 characters\n",
    "    validUsername = \"true\"\n",
    "    if(strParam[0].isalpha()):   # if username is has alphabet\n",
    "      validUsername = \"true\"\n",
    "      if(str(alphaNumericSymbolicValidator(strParam)) == \"true\"):   # if string validator\n",
    "        validUsername = \"true\"\n",
    "      else:\n",
    "        validUsername = \"false\"\n",
    "    else:\n",
    "      validUsername = \"false\" # if not starting with alpha\n",
    "  else:\n",
    "    validUsername = \"false\" # if charcters are not between 4 and 25\n",
    "\n",
    "  return validUsername   # code goes here\n",
    "\n",
    "# keep this function call here \n",
    "print(CodelandUsernameValidation(\"hello_\"))"
   ]
  },
  {
   "cell_type": "code",
   "execution_count": null,
   "metadata": {},
   "outputs": [],
   "source": []
  },
  {
   "cell_type": "code",
   "execution_count": null,
   "metadata": {},
   "outputs": [],
   "source": []
  }
 ],
 "metadata": {
  "kernelspec": {
   "display_name": "Python 3",
   "language": "python",
   "name": "python3"
  },
  "language_info": {
   "name": "python",
   "version": "3.11.4"
  }
 },
 "nbformat": 4,
 "nbformat_minor": 2
}
