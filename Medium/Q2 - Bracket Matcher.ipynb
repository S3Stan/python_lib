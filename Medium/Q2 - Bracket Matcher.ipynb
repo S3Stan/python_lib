{
 "cells": [
  {
   "cell_type": "markdown",
   "metadata": {},
   "source": [
    "# Medium level P1"
   ]
  },
  {
   "cell_type": "markdown",
   "metadata": {},
   "source": [
    "Have the function BracketMatcher(str) take the str parameter being passed and return 1 if the brackets are correctly matched and each one is accounted for. Otherwise return 0. For example: if str is \"(hello (world))\", then the output should be 1, but if str is \"((hello (world))\" the the output should be 0 because the brackets do not correctly match up. Only \"(\" and \")\" will be used as brackets. If str contains no brackets return 1."
   ]
  },
  {
   "cell_type": "code",
   "execution_count": 2,
   "metadata": {},
   "outputs": [],
   "source": [
    "# testing input\n",
    "\n",
    "test_input_1 = [\"(1,2)\", \"(2,4)\", \"(5,7)\", \"(7,2)\", \"(9,5)\"]\n",
    "test_input_2 = [\"(1,2)\", \"(3,2)\", \"(2,12)\", \"(5,2)\"]\n",
    "\n",
    "\n",
    "def input():\n",
    "    test_input = test_input_1\n",
    "    return test_input"
   ]
  },
  {
   "cell_type": "code",
   "execution_count": 3,
   "metadata": {},
   "outputs": [
    {
     "name": "stdout",
     "output_type": "stream",
     "text": [
      "1\n"
     ]
    }
   ],
   "source": [
    "def BracketMatcher(strParam):\n",
    "\n",
    "  # Open and close bracket count\n",
    "  open_bracket_count = strParam.count('(')\n",
    "  close_bracket_count = strParam.count(')')\n",
    "\n",
    "  open_bracket = '('\n",
    "  close_bracket = ')'\n",
    "\n",
    "  string_length = len(strParam)\n",
    "  validator = 0\n",
    "\n",
    "  for bracket in range(0, string_length):\n",
    "    deviator = 1\n",
    "    if(strParam[bracket] == open_bracket):\n",
    "      validator = validator + 1\n",
    "    elif(strParam[bracket] == close_bracket):\n",
    "      validator = validator - 1\n",
    "    elif(strParam[bracket] == \" \"):\n",
    "      hello = 12 # do nothing\n",
    "    else:\n",
    "      hello12 = 12 # do nothing\n",
    "\n",
    "  if(validator == 0): # if brackets are equal.\n",
    "    return 1 \n",
    "  elif(validator != 0): # if the brackets are not equal.\n",
    "    return 0 #\n",
    "  else: # if brackets are unequal\n",
    "    return 1 #\n",
    "\n",
    "# keep this function call here \n",
    "print(BracketMatcher(input()))\n",
    "\n",
    "# \"the color re(d))()(()\""
   ]
  },
  {
   "cell_type": "code",
   "execution_count": null,
   "metadata": {},
   "outputs": [],
   "source": [
    " "
   ]
  }
 ],
 "metadata": {
  "kernelspec": {
   "display_name": "Python 3",
   "language": "python",
   "name": "python3"
  },
  "language_info": {
   "codemirror_mode": {
    "name": "ipython",
    "version": 3
   },
   "file_extension": ".py",
   "mimetype": "text/x-python",
   "name": "python",
   "nbconvert_exporter": "python",
   "pygments_lexer": "ipython3",
   "version": "3.11.4"
  }
 },
 "nbformat": 4,
 "nbformat_minor": 2
}
