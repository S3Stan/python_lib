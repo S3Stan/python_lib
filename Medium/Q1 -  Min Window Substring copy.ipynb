{
 "cells": [
  {
   "cell_type": "code",
   "execution_count": null,
   "metadata": {},
   "outputs": [],
   "source": [
    "# \n",
    "import re\n",
    "\n",
    "# \n",
    "def getMinIndexOfLetterInWord(char, fullword):\n",
    "  fullword_index = len(fullword)\n",
    "  letter_index = fullword_index\n",
    "  char_index_list = []\n",
    "\n",
    "  for letter in range(0, fullword_index):\n",
    "    if(char == fullword[letter]):\n",
    "      char_index_list.append(letter) # append\n",
    "    else:\n",
    "      hello = 12 # do nothing\n",
    "\n",
    "  get_min_index = min(char_index_list) # get the min index from the list\n",
    "\n",
    "  return char_index_list\n",
    "\n",
    "# \n",
    "def MinWindowSubstring(strArr):\n",
    "\n",
    "  # get the string\n",
    "  fullstring = strArr[0] # \n",
    "  searchstring_ = strArr[1] #\n",
    "  fullString_len = len(fullstring) # \n",
    "  searchString_len = len(searchstring_) #\n",
    "\n",
    "  minIndexOfVal = getMinIndexOfLetterInWord('a', fullstring) \n",
    "  print(\"this is the len\", minIndexOfVal)\n",
    "\n",
    "  index_list = [] # store all the indices of the words\n",
    "  \n",
    "  # Get all the indexes of all the letters in the search\n",
    "\n",
    "  # word.replace('a', '')\n",
    "\n",
    "  # parse through the string\n",
    "\n",
    "\n",
    "  # code goes here\n",
    "  return strArr\n",
    "\n",
    "# keep this function call here \n",
    "print(MinWindowSubstring(input()))"
   ]
  }
 ],
 "metadata": {
  "language_info": {
   "name": "python"
  }
 },
 "nbformat": 4,
 "nbformat_minor": 2
}
