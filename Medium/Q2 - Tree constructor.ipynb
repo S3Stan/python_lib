{
 "cells": [
  {
   "cell_type": "markdown",
   "metadata": {},
   "source": [
    "# Medium level P1"
   ]
  },
  {
   "cell_type": "markdown",
   "metadata": {},
   "source": [
    "Have the function TreeConstructor(strArr) take the array of strings stored in strArr, which will contain pairs of integers in the following format: (i1,i2), where i1 represents a child node in a tree and the second integer i2 signifies that it is the parent of i1. For example: if strArr is [\"(1,2)\", \"(2,4)\", \"(7,2)\"], then thi\n",
    "s forms the following tree:\n",
    "\n",
    "![Tree constructor image](tree_constructor_img.png)\n",
    "\n",
    "which you can see forms a proper binary tree. Your program should, in this case, return the string true because a valid binary tree can be formed. If a proper binary tree cannot be formed with the integer pairs, then return the string false. All of the integers within the tree will be unique, which means there can only be one node in the tree with the given integer value."
   ]
  },
  {
   "cell_type": "code",
   "execution_count": 5,
   "metadata": {},
   "outputs": [],
   "source": [
    "# testing input\n",
    "\n",
    "test_input_1 = [\"(1,2)\", \"(2,4)\", \"(5,7)\", \"(7,2)\", \"(9,5)\"]\n",
    "test_input_2 = [\"(1,2)\", \"(3,2)\", \"(2,12)\", \"(5,2)\"]\n",
    "\n",
    "\n",
    "def input():\n",
    "    test_input = test_input_2\n",
    "    return test_input"
   ]
  },
  {
   "cell_type": "code",
   "execution_count": 7,
   "metadata": {},
   "outputs": [
    {
     "name": "stdout",
     "output_type": "stream",
     "text": [
      "this is the node list ['(1,2)', '(3,2)', '(2,12)', '(5,2)']\n",
      "false\n"
     ]
    }
   ],
   "source": [
    "# imports\n",
    "import re\n",
    "\n",
    "def TreeConstructor(strArr):\n",
    "\n",
    "  # patterns to extract the parent and child node from strings\n",
    "  extract_parent_string = r'\\((.*?)\\,'\n",
    "  extract_child_string = r'\\,(.*?)\\)' \n",
    "\n",
    "  # make string into a list and create lists to store the parent and child data\n",
    "  strArr_list = list(strArr)\n",
    "  node_parent_list = []\n",
    "  node_child_list = []\n",
    "  child_branches_count_list = []\n",
    "  parent_count_list = []\n",
    "\n",
    "  # create list of the parent and child nodes\n",
    "  for node in strArr_list:\n",
    "    parent = re.findall(extract_parent_string, node)\n",
    "    node_parent_list.append(parent)\n",
    "    child = re.findall(extract_child_string, node)\n",
    "    node_child_list.append(child)\n",
    "    \n",
    "    for \n",
    "  \n",
    "\n",
    "  # checking if a child can have different parents\n",
    "\n",
    "      \n",
    "  for node in strArr_list:\n",
    "    if(12 == 12):\n",
    "      hello =  123 # check if a child has the same parent\n",
    "    else:\n",
    "      print(\"this is the node list\", strArr_list)\n",
    "      # for each parent track the number of child nodes\n",
    "      for parent in node_parent_list:\n",
    "        child_counter = 0\n",
    "        for child in node_child_list:\n",
    "          if(parent == child):\n",
    "            child_counter +=1\n",
    "          else:\n",
    "            hello = 123 # do nothing\n",
    "        child_branches_count_list.append(child_counter) # add the number of children\n",
    "\n",
    "      # If the max number of child nodes is 2 or less the tree is valid\n",
    "      if(max(child_branches_count_list) <= 2):\n",
    "        return \"true\"\n",
    "      else:\n",
    "        return \"false\"\n",
    "\n",
    "# keep this function call here \n",
    "print(TreeConstructor(input()))"
   ]
  },
  {
   "cell_type": "code",
   "execution_count": null,
   "metadata": {},
   "outputs": [],
   "source": []
  }
 ],
 "metadata": {
  "kernelspec": {
   "display_name": "Python 3",
   "language": "python",
   "name": "python3"
  },
  "language_info": {
   "codemirror_mode": {
    "name": "ipython",
    "version": 3
   },
   "file_extension": ".py",
   "mimetype": "text/x-python",
   "name": "python",
   "nbconvert_exporter": "python",
   "pygments_lexer": "ipython3",
   "version": "3.11.4"
  }
 },
 "nbformat": 4,
 "nbformat_minor": 2
}
